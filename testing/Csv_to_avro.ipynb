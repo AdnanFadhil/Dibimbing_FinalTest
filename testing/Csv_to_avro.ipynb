{
 "cells": [
  {
   "cell_type": "code",
   "execution_count": 1,
   "metadata": {},
   "outputs": [],
   "source": [
    "import os\n",
    "import pandas as pd\n",
    "import fastavro"
   ]
  },
  {
   "cell_type": "code",
   "execution_count": 9,
   "metadata": {},
   "outputs": [],
   "source": [
    "def csv_to_avro(input_csv, output_avro):\n",
    "    # Check if the Avro file already exists\n",
    "    if os.path.exists(output_avro):\n",
    "        print(f\"Avro file {os.path.basename(output_avro)} already exists. Skipped.\")\n",
    "        return\n",
    "\n",
    "    # Read CSV data into a Pandas DataFrame\n",
    "    df = pd.read_csv(input_csv)\n",
    "\n",
    "    # Convert Pandas DataFrame to a list of records (dicts)\n",
    "    records = df.to_dict(orient='records')\n",
    "\n",
    "    # Manually create Avro schema based on the data structure\n",
    "    avro_schema = {\n",
    "        'type': 'record',\n",
    "        'name': 'MyRecord',\n",
    "        'fields': [\n",
    "            {'name': 'order_id', 'type': ['null', 'string']},\n",
    "            {'name': 'payment_sequential', 'type': ['null', 'int']},\n",
    "            {'name': 'payment_type', 'type': ['null', 'string']},\n",
    "            {'name': 'payment_installments', 'type': ['null', 'int']},\n",
    "            {'name': 'payment_value', 'type': ['null', 'float']}\n",
    "        ]\n",
    "    }\n",
    "\n",
    "    # Write records to Avro file\n",
    "    with open(output_avro, 'wb') as avro_file:\n",
    "        fastavro.writer(avro_file, avro_schema, records)\n",
    "\n",
    "    print(f\"Converted {os.path.basename(input_csv)} to {os.path.basename(output_avro)}\")\n",
    "\n"
   ]
  },
  {
   "cell_type": "code",
   "execution_count": 10,
   "metadata": {},
   "outputs": [
    {
     "name": "stdout",
     "output_type": "stream",
     "text": [
      "Converted olist_order_payments_dataset.csv to olist_order_payments_dataset.avro\n"
     ]
    }
   ],
   "source": [
    "# Example usage\n",
    "input_csv_path = '../data/olist/olist_order_payments_dataset.csv'\n",
    "output_avro_path = '../data/olist/olist_order_payments_dataset.avro'\n",
    "\n",
    "csv_to_avro(input_csv_path, output_avro_path)"
   ]
  }
 ],
 "metadata": {
  "kernelspec": {
   "display_name": "Python 3",
   "language": "python",
   "name": "python3"
  },
  "language_info": {
   "codemirror_mode": {
    "name": "ipython",
    "version": 3
   },
   "file_extension": ".py",
   "mimetype": "text/x-python",
   "name": "python",
   "nbconvert_exporter": "python",
   "pygments_lexer": "ipython3",
   "version": "3.8.10"
  }
 },
 "nbformat": 4,
 "nbformat_minor": 2
}
