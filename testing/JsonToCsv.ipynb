{
 "cells": [
  {
   "cell_type": "code",
   "execution_count": 1,
   "metadata": {},
   "outputs": [],
   "source": [
    "import pandas as pd\n",
    "import os"
   ]
  },
  {
   "cell_type": "code",
   "execution_count": 7,
   "metadata": {},
   "outputs": [
    {
     "name": "stdout",
     "output_type": "stream",
     "text": [
      "Converted coupons.json to coupons.csv\n",
      "Converted login_attempts_0.json to login_attempts_0.csv\n",
      "Converted login_attempts_1.json to login_attempts_1.csv\n",
      "Converted login_attempts_2.json to login_attempts_2.csv\n",
      "Converted login_attempts_3.json to login_attempts_3.csv\n",
      "Converted login_attempts_4.json to login_attempts_4.csv\n",
      "Converted login_attempts_5.json to login_attempts_5.csv\n",
      "Converted login_attempts_6.json to login_attempts_6.csv\n",
      "Converted login_attempts_7.json to login_attempts_7.csv\n",
      "Converted login_attempts_8.json to login_attempts_8.csv\n",
      "Converted login_attempts_9.json to login_attempts_9.csv\n"
     ]
    }
   ],
   "source": [
    "def json_folder_to_csv(input_folder, output_folder):\n",
    "    # Ensure the output folder exists\n",
    "    os.makedirs(output_folder, exist_ok=True)\n",
    "\n",
    "    # Iterate through all files in the input folder\n",
    "    for file_name in os.listdir(input_folder):\n",
    "        if file_name.endswith('.json'):\n",
    "            # Construct the full paths\n",
    "            json_path = os.path.join(input_folder, file_name)\n",
    "            csv_path = os.path.join(output_folder, os.path.splitext(file_name)[0] + '.csv')\n",
    "\n",
    "            # Check if the CSV file already exists\n",
    "            if os.path.exists(csv_path):\n",
    "                print(f\"CSV file {os.path.basename(csv_path)} already exists. Skipped.\")\n",
    "                continue\n",
    "\n",
    "            # Read JSON data into a Pandas DataFrame\n",
    "            df = pd.read_json(json_path)\n",
    "\n",
    "            # Write DataFrame to CSV\n",
    "            df.to_csv(csv_path, index=False)\n",
    "            print(f\"Converted {file_name} to {os.path.basename(csv_path)}\")\n",
    "\n",
    "# Example usage\n",
    "input_folder_path = '../data'\n",
    "output_folder_path = r'F:\\Dibimbing.Id\\Finaltest_Really\\dibimbing_km_final_project-main\\dibimbing_km_final_project-main\\testing\\data'\n",
    "\n",
    "json_folder_to_csv(input_folder_path, output_folder_path)\n"
   ]
  }
 ],
 "metadata": {
  "kernelspec": {
   "display_name": "Python 3",
   "language": "python",
   "name": "python3"
  },
  "language_info": {
   "codemirror_mode": {
    "name": "ipython",
    "version": 3
   },
   "file_extension": ".py",
   "mimetype": "text/x-python",
   "name": "python",
   "nbconvert_exporter": "python",
   "pygments_lexer": "ipython3",
   "version": "3.8.10"
  }
 },
 "nbformat": 4,
 "nbformat_minor": 2
}
