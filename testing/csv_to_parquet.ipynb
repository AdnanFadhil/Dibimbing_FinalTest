{
 "cells": [
  {
   "cell_type": "code",
   "execution_count": 14,
   "metadata": {},
   "outputs": [],
   "source": [
    "import os\n",
    "import pandas as pd\n",
    "import pyarrow.parquet as pq\n",
    "import pyarrow as pa\n"
   ]
  },
  {
   "cell_type": "code",
   "execution_count": 17,
   "metadata": {},
   "outputs": [],
   "source": [
    "def csv_to_parquet(input_csv, output_parquet):\n",
    "    if os.path.exists(output_parquet):\n",
    "        print(f\"Avro file {os.path.basename(output_parquet)} already exists. Skipped.\")\n",
    "        return\n",
    "    # Read CSV data into a Pandas DataFrame\n",
    "    df = pd.read_csv(input_csv)\n",
    "\n",
    "    # Write DataFrame to Parquet\n",
    "    table = pa.Table.from_pandas(df)\n",
    "    pq.write_table(table, output_parquet)\n",
    "\n",
    "    print(f\"Converted {os.path.basename(input_csv)} to {os.path.basename(output_parquet)}\")\n",
    "\n"
   ]
  },
  {
   "cell_type": "code",
   "execution_count": 19,
   "metadata": {},
   "outputs": [
    {
     "name": "stdout",
     "output_type": "stream",
     "text": [
      "Converted olist_orders_dataset.csv to olist_orders_dataset.parquet\n"
     ]
    }
   ],
   "source": [
    "\n",
    "\n",
    "# Example usage for a specific file\n",
    "input_csv_path = '../data/olist/olist_orders_dataset.csv'\n",
    "output_parquet_path = '../data/olist/olist_orders_dataset.parquet'\n",
    "\n",
    "csv_to_parquet(input_csv_path, output_parquet_path)"
   ]
  }
 ],
 "metadata": {
  "kernelspec": {
   "display_name": "Python 3",
   "language": "python",
   "name": "python3"
  },
  "language_info": {
   "codemirror_mode": {
    "name": "ipython",
    "version": 3
   },
   "file_extension": ".py",
   "mimetype": "text/x-python",
   "name": "python",
   "nbconvert_exporter": "python",
   "pygments_lexer": "ipython3",
   "version": "3.8.10"
  }
 },
 "nbformat": 4,
 "nbformat_minor": 2
}
